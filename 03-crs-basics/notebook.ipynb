{
 "cells": [
  {
   "cell_type": "markdown",
   "id": "cfabe2c5",
   "metadata": {},
   "source": [
    "# 🧭 Coordinate Reference Systems (CRS)"
   ]
  },
  {
   "cell_type": "code",
   "execution_count": null,
   "id": "21bb70f1",
   "metadata": {},
   "outputs": [],
   "source": [
    "python\n",
    "import geopandas as gpd\n",
    "world = gpd.read_file(gpd.datasets.get_path('naturalearth_lowres'))\n",
    "print(world.crs)\n"
   ]
  },
  {
   "cell_type": "code",
   "execution_count": null,
   "id": "768fc9a3",
   "metadata": {},
   "outputs": [],
   "source": [
    "python\n",
    "world_proj = world.to_crs(epsg=3395)\n",
    "world_proj.plot()\n"
   ]
  }
 ],
 "metadata": {},
 "nbformat": 4,
 "nbformat_minor": 5
}
