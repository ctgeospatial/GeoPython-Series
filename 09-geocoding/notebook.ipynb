{
 "cells": [
  {
   "cell_type": "markdown",
   "id": "cc47b90f",
   "metadata": {},
   "source": [
    "# 📍 Geocoding & Reverse Geocoding"
   ]
  },
  {
   "cell_type": "code",
   "execution_count": null,
   "id": "b24e1462",
   "metadata": {},
   "outputs": [],
   "source": [
    "python\n",
    "from geopy.geocoders import Nominatim\n",
    "geolocator = Nominatim(user_agent='geo_tutorial')\n",
    "location = geolocator.geocode('Nairobi')\n",
    "print(location.latitude, location.longitude)\n"
   ]
  }
 ],
 "metadata": {},
 "nbformat": 4,
 "nbformat_minor": 5
}
