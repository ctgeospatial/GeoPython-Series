{
 "cells": [
  {
   "cell_type": "markdown",
   "id": "793007cb",
   "metadata": {},
   "source": [
    "# 🔗 Spatial & Attribute Joins"
   ]
  },
  {
   "cell_type": "code",
   "execution_count": null,
   "id": "29415667",
   "metadata": {},
   "outputs": [],
   "source": [
    "python\n",
    "joined = gpd.sjoin(left_gdf, right_gdf, how='inner', predicate='intersects')\n"
   ]
  }
 ],
 "metadata": {},
 "nbformat": 4,
 "nbformat_minor": 5
}
