{
 "cells": [
  {
   "cell_type": "markdown",
   "id": "7aead04a",
   "metadata": {},
   "source": [
    "# 🛰️ Working with Raster Data (e.g. NDVI)"
   ]
  },
  {
   "cell_type": "code",
   "execution_count": null,
   "id": "3469dc4c",
   "metadata": {},
   "outputs": [],
   "source": [
    "python\n",
    "import rasterio\n",
    "from rasterio.plot import show\n",
    "# with rasterio.open('ndvi.tif') as src:\n",
    "#     show(src.read(1))\n"
   ]
  }
 ],
 "metadata": {},
 "nbformat": 4,
 "nbformat_minor": 5
}
