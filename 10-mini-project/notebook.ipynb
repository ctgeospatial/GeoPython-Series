{
 "cells": [
  {
   "cell_type": "markdown",
   "id": "26008821",
   "metadata": {},
   "source": [
    "# 🛠️ Real-World Project: Transport Accessibility"
   ]
  },
  {
   "cell_type": "markdown",
   "id": "2a2f8f3b",
   "metadata": {},
   "source": [
    "Analyze transit stops and walking distance buffers."
   ]
  },
  {
   "cell_type": "code",
   "execution_count": null,
   "id": "fbae2b03",
   "metadata": {},
   "outputs": [],
   "source": [
    "python\n",
    "# Use geopandas, shapely buffer, and plot with contextily\n"
   ]
  }
 ],
 "metadata": {},
 "nbformat": 4,
 "nbformat_minor": 5
}
