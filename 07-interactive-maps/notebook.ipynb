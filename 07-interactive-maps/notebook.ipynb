{
 "cells": [
  {
   "cell_type": "markdown",
   "id": "f78008b5",
   "metadata": {},
   "source": [
    "# 🌍 Plotting Interactive Maps"
   ]
  },
  {
   "cell_type": "code",
   "execution_count": null,
   "id": "fbf7d652",
   "metadata": {},
   "outputs": [],
   "source": [
    "python\n",
    "import folium\n",
    "m = folium.Map(location=[0, 0], zoom_start=2)\n",
    "m\n"
   ]
  }
 ],
 "metadata": {},
 "nbformat": 4,
 "nbformat_minor": 5
}
