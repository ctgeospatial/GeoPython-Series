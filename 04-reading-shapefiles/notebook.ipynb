{
 "cells": [
  {
   "cell_type": "markdown",
   "id": "dd90512f",
   "metadata": {},
   "source": [
    "# 📂 Reading Shapefiles and GeoJSON"
   ]
  },
  {
   "cell_type": "code",
   "execution_count": null,
   "id": "e6e8f8f7",
   "metadata": {},
   "outputs": [],
   "source": [
    "python\n",
    "import geopandas as gpd\n",
    "gdf = gpd.read_file('path_to_file.geojson')\n",
    "gdf.plot()\n"
   ]
  }
 ],
 "metadata": {},
 "nbformat": 4,
 "nbformat_minor": 5
}
