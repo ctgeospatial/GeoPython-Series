{
 "cells": [
  {
   "cell_type": "markdown",
   "id": "95178ce5",
   "metadata": {},
   "source": [
    "# 🗺️ What is Geospatial Data?"
   ]
  },
  {
   "cell_type": "markdown",
   "id": "843c1578",
   "metadata": {},
   "source": [
    "Geospatial data is data that is associated with a location. It includes vector (points, lines, polygons) and raster (images, grids) types."
   ]
  },
  {
   "cell_type": "code",
   "execution_count": null,
   "id": "96b8a388",
   "metadata": {},
   "outputs": [],
   "source": [
    "python\n",
    "import geopandas as gpd\n",
    "world = gpd.read_file(gpd.datasets.get_path('naturalearth_lowres'))\n",
    "world.head()\n"
   ]
  },
  {
   "cell_type": "code",
   "execution_count": null,
   "id": "2a728705",
   "metadata": {},
   "outputs": [],
   "source": [
    "python\n",
    "world.plot(figsize=(10, 6))\n"
   ]
  }
 ],
 "metadata": {},
 "nbformat": 4,
 "nbformat_minor": 5
}
