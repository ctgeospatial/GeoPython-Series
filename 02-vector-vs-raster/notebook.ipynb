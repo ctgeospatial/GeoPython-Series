{
 "cells": [
  {
   "cell_type": "markdown",
   "id": "dec8f577",
   "metadata": {},
   "source": [
    "# 📐 Vector vs Raster Data"
   ]
  },
  {
   "cell_type": "markdown",
   "id": "cffe04e7",
   "metadata": {},
   "source": [
    "## 🟦 Vector Data\n",
    "Used to represent discrete features with geometry."
   ]
  },
  {
   "cell_type": "markdown",
   "id": "fc8680cc",
   "metadata": {},
   "source": [
    "## 🟩 Raster Data\n",
    "Used for continuous data, such as satellite imagery."
   ]
  },
  {
   "cell_type": "code",
   "execution_count": null,
   "id": "1c025a6d",
   "metadata": {},
   "outputs": [],
   "source": [
    "python\n",
    "import rasterio\n",
    "from rasterio.plot import show\n",
    "# raster = rasterio.open('your_raster.tif')\n",
    "# show(raster)\n"
   ]
  }
 ],
 "metadata": {},
 "nbformat": 4,
 "nbformat_minor": 5
}
