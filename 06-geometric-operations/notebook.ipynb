{
 "cells": [
  {
   "cell_type": "markdown",
   "id": "735477ff",
   "metadata": {},
   "source": [
    "# 📏 Geometric Operations"
   ]
  },
  {
   "cell_type": "code",
   "execution_count": null,
   "id": "6e86f5f6",
   "metadata": {},
   "outputs": [],
   "source": [
    "python\n",
    "buffered = gdf.buffer(10)\n",
    "intersected = gdf1.intersection(gdf2)\n"
   ]
  }
 ],
 "metadata": {},
 "nbformat": 4,
 "nbformat_minor": 5
}
